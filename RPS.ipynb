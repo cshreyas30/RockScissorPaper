{
 "cells": [
  {
   "cell_type": "code",
   "execution_count": 5,
   "metadata": {},
   "outputs": [
    {
     "name": "stdout",
     "output_type": "stream",
     "text": [
      "Stone, Paper or Scissors?Stone\n",
      "Computer Win!\n",
      "Wanna play again? yes/no: yes\n",
      "Stone, Paper or Scissors?Paper\n",
      "That's a Tie!!\n",
      "Wanna play again? yes/no: no\n"
     ]
    }
   ],
   "source": [
    "from random import randint\n",
    "\n",
    "inputs = ['Stone', 'Paper', 'Scissors']\n",
    "\n",
    "player = False\n",
    "\n",
    "comp = inputs[randint(0,2)]\n",
    "\n",
    "while player == False:\n",
    "    player = input('Stone, Paper or Scissors?')\n",
    "    if player == comp:\n",
    "        print(\"That's a Tie!!\")\n",
    "    elif player == 'Stone':\n",
    "        if comp == 'Paper':\n",
    "            print('Computer Wins!')\n",
    "        else:\n",
    "            print('You Win!')\n",
    "    elif player == 'Paper':\n",
    "        if comp == 'Scissors':\n",
    "            print('Computer Wins!')\n",
    "        else:\n",
    "            print('You Win!')\n",
    "    elif player == 'Scissors':\n",
    "        if comp == 'Stone':\n",
    "            print('Computer Wins!')\n",
    "        else:\n",
    "            print('You Win!')\n",
    "    else:\n",
    "        print('Enter Valid input!!!')\n",
    "\n",
    "    play_again = input('Wanna play again? yes/no: ')\n",
    "    player = False\n",
    "\n",
    "    if play_again != 'yes':\n",
    "        break"
   ]
  },
  {
   "cell_type": "code",
   "execution_count": null,
   "metadata": {},
   "outputs": [],
   "source": []
  }
 ],
 "metadata": {
  "kernelspec": {
   "display_name": "Python 3",
   "language": "python",
   "name": "python3"
  },
  "language_info": {
   "codemirror_mode": {
    "name": "ipython",
    "version": 3
   },
   "file_extension": ".py",
   "mimetype": "text/x-python",
   "name": "python",
   "nbconvert_exporter": "python",
   "pygments_lexer": "ipython3",
   "version": "3.8.3"
  }
 },
 "nbformat": 4,
 "nbformat_minor": 4
}
